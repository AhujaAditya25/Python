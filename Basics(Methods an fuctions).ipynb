{
 "cells": [
  {
   "cell_type": "code",
   "execution_count": 1,
   "metadata": {},
   "outputs": [
    {
     "name": "stdout",
     "output_type": "stream",
     "text": [
      "0\n",
      "1\n",
      "2\n",
      "3\n",
      "4\n",
      "5\n",
      "6\n",
      "7\n",
      "8\n",
      "9\n",
      "10\n"
     ]
    }
   ],
   "source": [
    "# Usage of RANGE Operator ::\n",
    "for numbers in range(0,11):\n",
    "    print (numbers)"
   ]
  },
  {
   "cell_type": "code",
   "execution_count": 11,
   "metadata": {},
   "outputs": [
    {
     "name": "stdout",
     "output_type": "stream",
     "text": [
      "At index 1 the letter is : A\n",
      "At index 2 the letter is : d\n",
      "At index 3 the letter is : i\n",
      "At index 4 the letter is : t\n",
      "At index 5 the letter is : y\n",
      "At index 6 the letter is : a\n",
      "(0, 'A')\n",
      "(1, 'd')\n",
      "(2, 'i')\n",
      "(3, 't')\n",
      "(4, 'y')\n",
      "(5, 'a')\n",
      "0 - A\n",
      "1 - d\n",
      "2 - i\n",
      "3 - t\n",
      "4 - y\n",
      "5 - a\n"
     ]
    }
   ],
   "source": [
    "# Enumarator Function ::\n",
    "\n",
    "# Normal LOOP\n",
    "index_counter = 1\n",
    "for letter in 'Aditya':\n",
    "    print(\"At index {} the letter is : {}\".format(index_counter,letter))\n",
    "    index_counter+=1\n",
    "    \n",
    "    \n",
    "# USing Enumeration.\n",
    "for letter in enumerate ('Aditya'):\n",
    "    print(letter)\n",
    "    \n",
    "for index,letter in enumerate ('Aditya'):\n",
    "    print(str(index)+' - '+ letter)\n"
   ]
  },
  {
   "cell_type": "code",
   "execution_count": 2,
   "metadata": {},
   "outputs": [
    {
     "name": "stdout",
     "output_type": "stream",
     "text": [
      "('Aditya', 23)\n",
      "('Sakshi', 19)\n",
      "('xyz', 10)\n",
      "('abc', 50)\n"
     ]
    }
   ],
   "source": [
    "# zip function\n",
    "\n",
    "names = ['Aditya', 'Sakshi', 'xyz', 'abc']\n",
    "age = [23,19,10,50]\n",
    "\n",
    "for items in zip(names,age):\n",
    "    print (items)"
   ]
  },
  {
   "cell_type": "code",
   "execution_count": null,
   "metadata": {},
   "outputs": [],
   "source": []
  }
 ],
 "metadata": {
  "kernelspec": {
   "display_name": "Python 3",
   "language": "python",
   "name": "python3"
  },
  "language_info": {
   "codemirror_mode": {
    "name": "ipython",
    "version": 3
   },
   "file_extension": ".py",
   "mimetype": "text/x-python",
   "name": "python",
   "nbconvert_exporter": "python",
   "pygments_lexer": "ipython3",
   "version": "3.8.5"
  }
 },
 "nbformat": 4,
 "nbformat_minor": 4
}
