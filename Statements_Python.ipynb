{
 "cells": [
  {
   "cell_type": "code",
   "execution_count": 8,
   "metadata": {},
   "outputs": [
    {
     "name": "stdin",
     "output_type": "stream",
     "text": [
      "Enter a value either single, double or triple digit :  1500\n"
     ]
    },
    {
     "name": "stdout",
     "output_type": "stream",
     "text": [
      "1500\n",
      "Invalid value.\n"
     ]
    }
   ],
   "source": [
    "# Basic IF-ELSE loop in python.\n",
    "a = int(input(\"Enter a value either single, double or triple digit : \" ))\n",
    "print(a)\n",
    "if a > 0 and a < 10:\n",
    "    print(\"It's a single digit number.\" )\n",
    "elif a>=10 and a<100:\n",
    "    print(\"It's a double digit number.\" )\n",
    "elif a>=100 and a<1000:\n",
    "    print(\"It's a three digit number.\" )\n",
    "else:\n",
    "    print(\"Invalid value.\")"
   ]
  },
  {
   "cell_type": "code",
   "execution_count": 24,
   "metadata": {},
   "outputs": [
    {
     "name": "stdout",
     "output_type": "stream",
     "text": [
      "All the even numbers are : \n",
      "2 4 6 8 10 "
     ]
    }
   ],
   "source": [
    "# Basic FOR loop in python.\n",
    "\n",
    "basic_list = [1,2,3,4,5,6,7,8,9,10]\n",
    "print(\"All the even numbers are : \")\n",
    "for num in basic_list :\n",
    "#     print(\"All the elements in the list are : \")\n",
    "#     print(num,end=\" \")\n",
    "    if num %2==0:\n",
    "        print(num,end=\" \")"
   ]
  },
  {
   "cell_type": "code",
   "execution_count": 6,
   "metadata": {},
   "outputs": [
    {
     "name": "stdout",
     "output_type": "stream",
     "text": [
      "The value of x is : 1\n",
      "The value of x is : 2\n",
      "The value of x is : 3\n",
      "You might not reach till 5 .\n"
     ]
    }
   ],
   "source": [
    "# Basic WHIlE loop in python.\n",
    "\n",
    "x = 1\n",
    "while x<=5 :\n",
    "    print(\"The value of x is :\",x)\n",
    "    x+=1\n",
    "    if x==4:\n",
    "        print(\"You might not reach till 5 .\")\n",
    "        break"
   ]
  },
  {
   "cell_type": "code",
   "execution_count": 20,
   "metadata": {},
   "outputs": [
    {
     "name": "stdout",
     "output_type": "stream",
     "text": [
      "(1, 'a')\n",
      "(2, 'b')\n",
      "(3, 'c')\n"
     ]
    }
   ],
   "source": [
    "# Useful Operators\n",
    "\n",
    "# 1: Range\n",
    "\n",
    "# for num in range(10):\n",
    "#     print(num)\n",
    "    \n",
    "# print(\"---------IN RANGE 3-10-----------\")\n",
    "# for num in range(3,10):\n",
    "#     print(num)\n",
    "    \n",
    "# print(\"---------IN RANGE 3-10 , ALTERNATIVELY-----------\")\n",
    "# for num in range(3,10,2):\n",
    "#     print(num)\n",
    "\n",
    "list(range(1,10))\n",
    "\n",
    "# 2.ENUMERATE\n",
    "\n",
    "# index_count = 0\n",
    "# for letter in 'abcde':\n",
    "#     print(\"At index {} the letter is {}\".format(index_count,letter))\n",
    "#     index_count +=1\n",
    "    \n",
    "    \n",
    "# word = 'abcde'\n",
    "# count=0\n",
    "# for letter in word:\n",
    "#     print(word[count])\n",
    "#     count+=1\n",
    "    \n",
    "# for item in enumerate(word):\n",
    "#     print(item)\n",
    "\n",
    "# 3.ZIP\n",
    "\n",
    "list1 = [1,2,3]\n",
    "list2 = ['a','b','c']\n",
    "for item in zip(list1,list2):\n",
    "    print(item)"
   ]
  },
  {
   "cell_type": "code",
   "execution_count": 14,
   "metadata": {},
   "outputs": [
    {
     "name": "stdout",
     "output_type": "stream",
     "text": [
      "['h', 'e', 'l', 'l', 'o']\n",
      "[0, 1, 2, 3, 4, 5, 6, 7, 8, 9, 10]\n",
      "[0, 1, 4, 9, 16, 25, 36, 49, 64, 81, 100]\n",
      "[0, 2, 4, 6, 8, 10]\n"
     ]
    }
   ],
   "source": [
    "# LIST_COMPREHENSIONS\n",
    "\n",
    "# TRADITIONAL WAY:: \n",
    "\n",
    "# string ='hello'\n",
    "# list = []\n",
    "# for letter in string :\n",
    "#     list.append(letter)\n",
    "\n",
    "\n",
    "# NEW WAY ::\n",
    "\n",
    "string ='hello'\n",
    "list = [letter for letter in string]\n",
    "print(list)\n",
    "list=[num for num in range(0,11)]\n",
    "print(list)\n",
    "list=[num**2 for num in range(0,11)] # GETTING THE NUMBERS AND SQUARING THEM.\n",
    "print(list)\n",
    "list= [x for x in range(0,11) if x%2==0] # ONLY GETTING EVEN NUMBERS.\n",
    "print(list)\n"
   ]
  },
  {
   "cell_type": "code",
   "execution_count": null,
   "metadata": {},
   "outputs": [],
   "source": []
  }
 ],
 "metadata": {
  "kernelspec": {
   "display_name": "Python 3",
   "language": "python",
   "name": "python3"
  },
  "language_info": {
   "codemirror_mode": {
    "name": "ipython",
    "version": 3
   },
   "file_extension": ".py",
   "mimetype": "text/x-python",
   "name": "python",
   "nbconvert_exporter": "python",
   "pygments_lexer": "ipython3",
   "version": "3.8.5"
  }
 },
 "nbformat": 4,
 "nbformat_minor": 4
}
