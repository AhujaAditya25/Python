{
 "cells": [
  {
   "cell_type": "code",
   "execution_count": 1,
   "metadata": {},
   "outputs": [],
   "source": [
    "# Problem 1\n",
    "# Handle the exception thrown by the code below by using try and except blocks.\n",
    "\n",
    "# for i in ['a','b','c']:\n",
    "#     print(i**2)\n",
    "# ---------------------------------------------------------------------------\n",
    "# TypeError                                 Traceback (most recent call last)\n",
    "# <ipython-input-1-c35f41ad7311> in <module>()\n",
    "#       1 for i in ['a','b','c']:\n",
    "# ----> 2     print(i**2)\n",
    "\n",
    "# TypeError: unsupported operand type(s) for ** or pow(): 'str' and 'int'"
   ]
  },
  {
   "cell_type": "code",
   "execution_count": 2,
   "metadata": {},
   "outputs": [
    {
     "name": "stdout",
     "output_type": "stream",
     "text": [
      "The entered values are not numbers, thus, we cannot perform the squaring operation.\n",
      "This is to inform that the finally block has run, thus, operation has now terminated.\n"
     ]
    }
   ],
   "source": [
    "try :\n",
    "    for i in ['a','b','c']:\n",
    "        print(i**2)\n",
    "except :\n",
    "    if TypeError :\n",
    "        print(\"The entered values are not numbers, thus, we cannot perform the squaring operation.\")\n",
    "    else:\n",
    "        print(\"Invald Data Entered.\")\n",
    "finally:\n",
    "    print(\"This is to inform that the finally block has run, thus, operation has now terminated.\")"
   ]
  },
  {
   "cell_type": "code",
   "execution_count": 3,
   "metadata": {},
   "outputs": [],
   "source": [
    "# Problem 2\n",
    "# Handle the exception thrown by the code below by using try and except blocks. Then use a finally block to print 'All Done.'\n",
    "\n",
    "# x = 5\n",
    "# y = 0\n",
    "\n",
    "# z = x/y\n",
    "# ---------------------------------------------------------------------------\n",
    "# ZeroDivisionError                         Traceback (most recent call last)\n",
    "# <ipython-input-2-6f985c4c80dd> in <module>()\n",
    "#       2 y = 0\n",
    "#       3 \n",
    "# ----> 4 z = x/y\n",
    "\n",
    "# ZeroDivisionError: division by zero"
   ]
  },
  {
   "cell_type": "code",
   "execution_count": 4,
   "metadata": {},
   "outputs": [
    {
     "name": "stdout",
     "output_type": "stream",
     "text": [
      "You've tried to divide the numerator by zero, which is invalid, as it results into an infinite value.\n",
      "This is to inform that the finally block has run, thus, operation has now terminated.\n"
     ]
    }
   ],
   "source": [
    "try : \n",
    "    x = 5\n",
    "    y = 0\n",
    "\n",
    "    z = x/y\n",
    "    \n",
    "except : \n",
    "    if ZeroDivisionError : \n",
    "        print(\"You've tried to divide the numerator by zero, which is invalid, as it results into an infinite value.\")\n",
    "    else : \n",
    "        print(\"Cant compute, please check wheather valid enteries of integers are done..\")\n",
    "finally:\n",
    "    print(\"This is to inform that the finally block has run, thus, operation has now terminated.\")"
   ]
  },
  {
   "cell_type": "code",
   "execution_count": 5,
   "metadata": {},
   "outputs": [],
   "source": [
    "# Problem 3\n",
    "# Write a function that asks for an integer and prints the square of it. Use a while loop with a try, except, else block to account for incorrect inputs.\n",
    "\n",
    "# def ask():\n",
    "#     pass\n",
    "# ask()"
   ]
  },
  {
   "cell_type": "code",
   "execution_count": 6,
   "metadata": {},
   "outputs": [
    {
     "name": "stdout",
     "output_type": "stream",
     "text": [
      "Please Enter an integer value to be sqaured..\n"
     ]
    },
    {
     "name": "stdin",
     "output_type": "stream",
     "text": [
      "Enter Value :  a\n"
     ]
    },
    {
     "name": "stdout",
     "output_type": "stream",
     "text": [
      "Please enter an integer value\n",
      "the finally block has been run.\n",
      "Please Enter an integer value to be sqaured..\n"
     ]
    },
    {
     "name": "stdin",
     "output_type": "stream",
     "text": [
      "Enter Value :  5\n"
     ]
    },
    {
     "name": "stdout",
     "output_type": "stream",
     "text": [
      "The output generated for 5 is 25\n",
      "the finally block has been run.\n"
     ]
    }
   ],
   "source": [
    "def ask(input_int):\n",
    "    return input_int ** 2 \n",
    "\n",
    "value = True\n",
    "while value :\n",
    "    try :\n",
    "        print(\"Please Enter an integer value to be sqaured..\")\n",
    "        input_int = int(input(\"Enter Value : \"))\n",
    "        answer  = ask(input_int)\n",
    "        print(f\"The output generated for {input_int} is {answer}\")\n",
    "        value = False\n",
    "    except : \n",
    "        if TypeError : \n",
    "            print (\"Please enter an integer value\")\n",
    "        else : \n",
    "             print(\"Cant compute, please check wheather valid enteries of integers are done..\")\n",
    "        continue\n",
    "    finally :\n",
    "        print(\"the finally block has been run.\")\n",
    "        "
   ]
  }
 ],
 "metadata": {
  "kernelspec": {
   "display_name": "Python 3",
   "language": "python",
   "name": "python3"
  },
  "language_info": {
   "codemirror_mode": {
    "name": "ipython",
    "version": 3
   },
   "file_extension": ".py",
   "mimetype": "text/x-python",
   "name": "python",
   "nbconvert_exporter": "python",
   "pygments_lexer": "ipython3",
   "version": "3.8.5"
  }
 },
 "nbformat": 4,
 "nbformat_minor": 4
}
