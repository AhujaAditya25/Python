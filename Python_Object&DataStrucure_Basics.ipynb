{
 "cells": [
  {
   "cell_type": "code",
   "execution_count": 1,
   "metadata": {},
   "outputs": [
    {
     "name": "stdout",
     "output_type": "stream",
     "text": [
      "What a day. What a day.\n"
     ]
    }
   ],
   "source": [
    "#String_Introduction.\n",
    "input = 2\n",
    "input = 'What a day.'\n",
    "print(input+\" \"+input)"
   ]
  },
  {
   "cell_type": "code",
   "execution_count": 5,
   "metadata": {},
   "outputs": [
    {
     "name": "stdout",
     "output_type": "stream",
     "text": [
      "Hello, this is Aditya. :-)\n",
      ",\n",
      "H\n",
      "h\n",
      "s\n"
     ]
    }
   ],
   "source": [
    "#Indexing and Slicing in String.\n",
    "\n",
    "# 1_Indexing ::\n",
    "\n",
    "mystring = \"Hello, this is Aditya. :-)\"\n",
    "print(mystring)\n",
    "print(mystring[5])\n",
    "print(mystring[0])\n",
    "print(mystring[8])\n",
    "print(mystring[13])"
   ]
  },
  {
   "cell_type": "code",
   "execution_count": 9,
   "metadata": {},
   "outputs": [
    {
     "name": "stdout",
     "output_type": "stream",
     "text": [
      "this is Aditya. :-)\n",
      "Hello, thi\n",
      "Hello, this is \n",
      "Hlo hsi dta -\n",
      ")-: .aytidA si siht ,olleH\n"
     ]
    }
   ],
   "source": [
    "# 2_Slicing ::\n",
    "\n",
    "mystring = \"Hello, this is Aditya. :-)\"\n",
    "print(mystring[7:]) # After_', '_till_the_end.\n",
    "print(mystring[:10]) # From_Start_Till_The_Index_10_But_not_including_10.\n",
    "print(mystring[0:15]) # From_Value_0_To_Index_15.\n",
    "print(mystring[::2]) # Print_Only_Alternate_words.\n",
    "print(mystring[::-1]) # Reverse_a_String."
   ]
  },
  {
   "cell_type": "code",
   "execution_count": 3,
   "metadata": {},
   "outputs": [
    {
     "data": {
      "text/plain": [
       "'WORLD'"
      ]
     },
     "execution_count": 3,
     "metadata": {},
     "output_type": "execute_result"
    }
   ],
   "source": [
    "#String_Properties_And_Methods.\n",
    "\n",
    "#Contactination ::\n",
    "mystring ='Hello'\n",
    "name = 'World'\n",
    "mystring + \" \" + name\n",
    "\n",
    "# Built_In_Methods ::\n",
    "name.upper()\n",
    "name.split()"
   ]
  },
  {
   "cell_type": "code",
   "execution_count": null,
   "metadata": {},
   "outputs": [],
   "source": [
    "# Print_Formatting_With_Strings.\n",
    "\n",
    "# 1. Print()_StringContent_{}_(.format(\"Content_Inside_The_Bracket\"))_\n",
    "# 2. print(f'String'_{value})_\n",
    "\n",
    "# Please_Refer_GOOGLE-NOTES_For_In_Depth_PythonStringFormatting.\n",
    "# ALSO_FOR_REFRENCE_ https://pyformat.info/."
   ]
  },
  {
   "cell_type": "code",
   "execution_count": 4,
   "metadata": {},
   "outputs": [
    {
     "data": {
      "text/plain": [
       "[1, 2, 3, 4, 5, 6, 7, 8, 9, 10, 9, 10, 11]"
      ]
     },
     "execution_count": 4,
     "metadata": {},
     "output_type": "execute_result"
    }
   ],
   "source": [
    "# Python_Lists.  #LIST_ALWAYS_IN_( [] ).\n",
    "# list.append()\n",
    "# list.pop()\n",
    "# list.sort()\n",
    "# list.reverse()\n",
    "\n",
    "\n",
    "mylist = [1,2,3,4,5,6,7,8,9,10]\n",
    "anotherlist=[9,10,11]\n",
    "mylist + anotherlist"
   ]
  },
  {
   "cell_type": "code",
   "execution_count": 5,
   "metadata": {},
   "outputs": [
    {
     "data": {
      "text/plain": [
       "10"
      ]
     },
     "execution_count": 5,
     "metadata": {},
     "output_type": "execute_result"
    }
   ],
   "source": [
    "# Length_Of_The_List.\n",
    "\n",
    "len(mylist)"
   ]
  },
  {
   "cell_type": "code",
   "execution_count": 7,
   "metadata": {},
   "outputs": [
    {
     "name": "stdout",
     "output_type": "stream",
     "text": [
      "Ford\n"
     ]
    }
   ],
   "source": [
    "# Dictionaries_In_Python.\n",
    "\n",
    "# Example: \n",
    "\n",
    "thisdict = {\n",
    "  \"brand\": \"Ford\",\n",
    "  \"model\": \"Mustang\",\n",
    "  \"year\": 1964\n",
    "}\n",
    "print(thisdict.get('brand'))\n"
   ]
  },
  {
   "cell_type": "code",
   "execution_count": 15,
   "metadata": {},
   "outputs": [
    {
     "data": {
      "text/plain": [
       "['Mutable', 2, 3]"
      ]
     },
     "execution_count": 15,
     "metadata": {},
     "output_type": "execute_result"
    }
   ],
   "source": [
    "# Tuples_in_Python\n",
    "\n",
    "# Methods_In_Python:\n",
    "tuples = ('a','a','b')\n",
    "tuples.count('a')\n",
    "\n",
    "mytuples = (1,2,3)\n",
    "mylists = [1,2,3]\n",
    "\n",
    "mylists[0] = 'Mutable'\n",
    "mylists\n",
    "\n",
    "# Basic differece between LISTS vs TUPLES is that LISTS are \"MUTABLE\" , that is , they can be changed. \n",
    "# TUPLES one assigned, cannot be changed. therefore, its a great tool to use when uou want the integrity of the code\n",
    "# to remain, when there are chances of data being changed.  "
   ]
  },
  {
   "cell_type": "code",
   "execution_count": 18,
   "metadata": {},
   "outputs": [
    {
     "data": {
      "text/plain": [
       "{1, 2, 3, 4, 5, 6, 8, 9, 93}"
      ]
     },
     "execution_count": 18,
     "metadata": {},
     "output_type": "execute_result"
    }
   ],
   "source": [
    "# SETS_In_Python.\n",
    "# Sets are unordered collection of unique elements.\n",
    "\n",
    "# How to declare a set : myset = set()\n",
    "myset = set()\n",
    "myset.add(1)\n",
    "listss = [1,1,2,2,4,4,5,8,8,9,3,6,4,93,4,8,5,8,4,2,1]\n",
    "listss # Answer to this was :: [1, 1, 2, 2, 4, 4, 5, 8, 8, 9, 3, 6, 4, 93, 4, 8, 5, 8, 4, 2, 1]\n",
    "set(listss) # Answer to this : {1, 2, 3, 4, 5, 6, 8, 9, 93}"
   ]
  },
  {
   "cell_type": "code",
   "execution_count": 22,
   "metadata": {},
   "outputs": [
    {
     "data": {
      "text/plain": [
       "False"
      ]
     },
     "execution_count": 22,
     "metadata": {},
     "output_type": "execute_result"
    }
   ],
   "source": [
    "#Booleans_In_Python\n",
    "a = True\n",
    "a\n",
    "1>2"
   ]
  },
  {
   "cell_type": "code",
   "execution_count": 48,
   "metadata": {},
   "outputs": [],
   "source": [
    "# I/O_With_Basic_Files_In_Python\n",
    "\n",
    "# Writing a file (ONLY WORKS IN JUPITER NOTEOOK)\n",
    "# %%writefile myfile.txt\n",
    "# Hello this is a text file\n"
   ]
  },
  {
   "cell_type": "code",
   "execution_count": 45,
   "metadata": {},
   "outputs": [],
   "source": [
    "f = open('myfile.txt')"
   ]
  },
  {
   "cell_type": "code",
   "execution_count": 46,
   "metadata": {},
   "outputs": [
    {
     "data": {
      "text/plain": [
       "'hello this a text file.'"
      ]
     },
     "execution_count": 46,
     "metadata": {},
     "output_type": "execute_result"
    }
   ],
   "source": [
    "f.read()"
   ]
  },
  {
   "cell_type": "code",
   "execution_count": 47,
   "metadata": {},
   "outputs": [],
   "source": [
    "f.close()"
   ]
  },
  {
   "cell_type": "code",
   "execution_count": 49,
   "metadata": {},
   "outputs": [],
   "source": [
    "with open ('myfile.txt') as myf:\n",
    "    contents = myf.read()"
   ]
  },
  {
   "cell_type": "code",
   "execution_count": 50,
   "metadata": {},
   "outputs": [
    {
     "data": {
      "text/plain": [
       "'hello this a text file.'"
      ]
     },
     "execution_count": 50,
     "metadata": {},
     "output_type": "execute_result"
    }
   ],
   "source": [
    "contents"
   ]
  },
  {
   "cell_type": "code",
   "execution_count": 51,
   "metadata": {},
   "outputs": [],
   "source": [
    "# OPERATION \n",
    "# with open('FileName', 'mode') as variableName:\n",
    "# now there are a lot of mode that you can access youre file.\n",
    "# r ---> read only\n",
    "# w ---> write only //(Also over-writes/creates new file)\n",
    "# r+ --> read and write\n",
    "# w+ --> write and read //(Also over-writes/creates new file)\n",
    "# a ---> Append\n",
    "# when the curser is at the last index (after reador append starts with last index..) to bring it back to first --> seek()."
   ]
  }
 ],
 "metadata": {
  "kernelspec": {
   "display_name": "Python 3",
   "language": "python",
   "name": "python3"
  },
  "language_info": {
   "codemirror_mode": {
    "name": "ipython",
    "version": 3
   },
   "file_extension": ".py",
   "mimetype": "text/x-python",
   "name": "python",
   "nbconvert_exporter": "python",
   "pygments_lexer": "ipython3",
   "version": "3.8.5"
  }
 },
 "nbformat": 4,
 "nbformat_minor": 4
}
