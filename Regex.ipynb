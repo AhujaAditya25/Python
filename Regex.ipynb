{
 "cells": [
  {
   "cell_type": "code",
   "execution_count": 4,
   "metadata": {},
   "outputs": [],
   "source": [
    "import re"
   ]
  },
  {
   "cell_type": "code",
   "execution_count": 5,
   "metadata": {},
   "outputs": [
    {
     "data": {
      "text/plain": [
       "'hello i started this at 13-05-2021 and hoping to end it on 14-05-2021'"
      ]
     },
     "execution_count": 5,
     "metadata": {},
     "output_type": "execute_result"
    }
   ],
   "source": [
    "pattern = r'(?P<date>\\d{2})(?P<month>\\d{2})(?P<year>\\d{4})'\n",
    "text = 'hello i started this at 13052021 and hoping to end it on 14052021'\n",
    "replacement_pattern = r'\\g<date>-\\g<month>-\\g<year>'\n",
    "re.sub(pattern,replacement_pattern,text)"
   ]
  },
  {
   "cell_type": "code",
   "execution_count": 6,
   "metadata": {},
   "outputs": [],
   "source": [
    "import datetime\n",
    "def formay_date(match):\n",
    "    in_date = match.groupdict()\n",
    "    \n",
    "    year = int(in_date['year'])\n",
    "    month = int(in_date['month'])\n",
    "    date = int(in_date['date'])\n",
    "    \n",
    "    return datetime.date(year, month,date).strftime('%b-%d-%Y')"
   ]
  },
  {
   "cell_type": "code",
   "execution_count": 7,
   "metadata": {},
   "outputs": [
    {
     "data": {
      "text/plain": [
       "'hello i started this at May-13-2021 and hoping to end it on May-14-2021'"
      ]
     },
     "execution_count": 7,
     "metadata": {},
     "output_type": "execute_result"
    }
   ],
   "source": [
    "pattern = r'(?P<date>\\d{2})(?P<month>\\d{2})(?P<year>\\d{4})'\n",
    "text = 'hello i started this at 13052021 and hoping to end it on 14052021'\n",
    "replacement_pattern = r'\\g<date>-\\g<month>-\\g<year>'\n",
    "re.sub(pattern,formay_date,text)"
   ]
  },
  {
   "cell_type": "code",
   "execution_count": 10,
   "metadata": {},
   "outputs": [],
   "source": [
    "# Case-Insensitivity to find  both 'A' and 'a'.\n",
    "# pattern -- ( (?i)a  )\n",
    "# text -- this is Aditya"
   ]
  },
  {
   "cell_type": "code",
   "execution_count": 1,
   "metadata": {},
   "outputs": [],
   "source": [
    "# Log_Parser"
   ]
  },
  {
   "cell_type": "code",
   "execution_count": 3,
   "metadata": {},
   "outputs": [],
   "source": [
    "# (?im)^\\s+(?P<type>source|dest)\\s+:\\s+(?P<dir>.+) #Matches_SOURCE_&_DEST_And_Its_Contents"
   ]
  },
  {
   "cell_type": "code",
   "execution_count": 8,
   "metadata": {},
   "outputs": [],
   "source": [
    "# -------------------------------------------------------------------------------\n",
    "#    ROBOCOPY     ::     Robust File Copy for Windows                              \n",
    "# -------------------------------------------------------------------------------\n",
    "\n",
    "#   Started : Sunday, May 1, 2016 1:59:16 PM\n",
    "#    Source : C:\\RegularExpressionsWithDotNet\\robocopytest\\source\\தமிழ்\\हिन्दी\\English\n",
    "#      Dest : C:\\RegularExpressionsWithDotNet\\robocopytest\\destn\\\n",
    "\n",
    "#     Files : *.*\n",
    "\t    \n",
    "#   Options : *.* /BYTES /S /DCOPY:DA /COPY:DAT /NP /R:1000000 /W:30 \n",
    "\n",
    "# ------------------------------------------------------------------------------\n"
   ]
  },
  {
   "cell_type": "code",
   "execution_count": 9,
   "metadata": {},
   "outputs": [],
   "source": [
    "# 2016052006890290701029NNNN030NNNNNNN\n",
    "# 20160521070602906970290717NNNNNNNNNN\n",
    "# 201605220694029069603107060350703034"
   ]
  },
  {
   "cell_type": "code",
   "execution_count": 10,
   "metadata": {},
   "outputs": [],
   "source": [
    "# (?m)^(?P<year>\\d{4})(?P<month>\\d{2})(?P<day>\\d{2})((?P<temperature>\\d{4})(?P<humidity>\\d{3}))+"
   ]
  },
  {
   "cell_type": "code",
   "execution_count": 1,
   "metadata": {},
   "outputs": [],
   "source": [
    "# (?m)(?P<temperature>\\d{4}|NNNN)(?P<humidity>\\d{3}|NNN)"
   ]
  },
  {
   "cell_type": "code",
   "execution_count": null,
   "metadata": {},
   "outputs": [],
   "source": []
  }
 ],
 "metadata": {
  "kernelspec": {
   "display_name": "Python 3",
   "language": "python",
   "name": "python3"
  },
  "language_info": {
   "codemirror_mode": {
    "name": "ipython",
    "version": 3
   },
   "file_extension": ".py",
   "mimetype": "text/x-python",
   "name": "python",
   "nbconvert_exporter": "python",
   "pygments_lexer": "ipython3",
   "version": "3.8.5"
  }
 },
 "nbformat": 4,
 "nbformat_minor": 4
}
