{
 "cells": [
  {
   "cell_type": "code",
   "execution_count": 1,
   "metadata": {},
   "outputs": [],
   "source": [
    "# This is the OOP challenge :: \n",
    "\n",
    "\n",
    "\n",
    "# Object Oriented Programming Challenge\n",
    "# For this challenge, create a bank account class that has two attributes:\n",
    "\n",
    "# owner\n",
    "# balance\n",
    "# and two methods:\n",
    "\n",
    "# deposit\n",
    "# withdraw\n",
    "# As an added requirement, withdrawals may not exceed the available balance.\n",
    "\n",
    "# Instantiate your class, make several deposits and withdrawals, and test to make sure the account can't be overdrawn."
   ]
  },
  {
   "cell_type": "code",
   "execution_count": 27,
   "metadata": {},
   "outputs": [],
   "source": [
    "class BankAccount():\n",
    "    \n",
    "    \n",
    "    def __init__(self, owner,balance):\n",
    "        print(\"Hello to our bank account application.\")\n",
    "        print(\"what would you like to do\\n 1. Display Balance\\n 2. Deposit Money\\n 3. Withdraw Balance\\n 4. View Owner\")\n",
    "        self.owner = owner\n",
    "        self.balance = balance\n",
    "    \n",
    "    def deposit (self,amount):\n",
    "        print(\"Your balance before deposit {}\".format(self.balance))\n",
    "        self.balance += amount\n",
    "        print(f'After depositing {amount} the fund available becomes {self.balance}')\n",
    "        \n",
    "    def withdraw (self,amount):\n",
    "        if self.balance>=amount:\n",
    "            print(f'Available fund before withdrawal : {self.balance}')\n",
    "            self.balance -= amount\n",
    "            print(f'Available fund after withdrawal : {self.balance}')\n",
    "        else :\n",
    "            print(\"Insufficient balance\")\n",
    "            \n",
    "        \n",
    "        \n",
    "        \n",
    "        "
   ]
  },
  {
   "cell_type": "code",
   "execution_count": 28,
   "metadata": {},
   "outputs": [
    {
     "name": "stdout",
     "output_type": "stream",
     "text": [
      "Hello to our bank account application.\n",
      "what would you like to do\n",
      " 1. Display Balance\n",
      " 2. Deposit Money\n",
      " 3. Withdraw Balance\n",
      " 4. View Owner\n"
     ]
    }
   ],
   "source": [
    "aditya = BankAccount(\"Aditya\",100)"
   ]
  },
  {
   "cell_type": "code",
   "execution_count": 35,
   "metadata": {},
   "outputs": [
    {
     "data": {
      "text/plain": [
       "100"
      ]
     },
     "execution_count": 35,
     "metadata": {},
     "output_type": "execute_result"
    }
   ],
   "source": [
    "aditya.balance"
   ]
  },
  {
   "cell_type": "code",
   "execution_count": 36,
   "metadata": {},
   "outputs": [
    {
     "name": "stdout",
     "output_type": "stream",
     "text": [
      "Available fund before withdrawal : 100\n",
      "Available fund after withdrawal : 50\n"
     ]
    }
   ],
   "source": [
    "aditya.withdraw(50)"
   ]
  },
  {
   "cell_type": "code",
   "execution_count": 37,
   "metadata": {},
   "outputs": [
    {
     "name": "stdout",
     "output_type": "stream",
     "text": [
      "Insufficient balance\n"
     ]
    }
   ],
   "source": [
    "aditya.withdraw(70)"
   ]
  },
  {
   "cell_type": "code",
   "execution_count": 38,
   "metadata": {},
   "outputs": [
    {
     "data": {
      "text/plain": [
       "50"
      ]
     },
     "execution_count": 38,
     "metadata": {},
     "output_type": "execute_result"
    }
   ],
   "source": [
    "aditya.balance"
   ]
  },
  {
   "cell_type": "code",
   "execution_count": 39,
   "metadata": {},
   "outputs": [
    {
     "name": "stdout",
     "output_type": "stream",
     "text": [
      "Your balance before deposit 50\n",
      "After depositing 100 the fund available becomes 150\n"
     ]
    }
   ],
   "source": [
    "aditya.deposit(100)"
   ]
  }
 ],
 "metadata": {
  "kernelspec": {
   "display_name": "Python 3",
   "language": "python",
   "name": "python3"
  },
  "language_info": {
   "codemirror_mode": {
    "name": "ipython",
    "version": 3
   },
   "file_extension": ".py",
   "mimetype": "text/x-python",
   "name": "python",
   "nbconvert_exporter": "python",
   "pygments_lexer": "ipython3",
   "version": "3.8.5"
  }
 },
 "nbformat": 4,
 "nbformat_minor": 4
}
