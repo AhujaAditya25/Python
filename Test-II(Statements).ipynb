{
 "cells": [
  {
   "cell_type": "code",
   "execution_count": 6,
   "metadata": {},
   "outputs": [
    {
     "name": "stdout",
     "output_type": "stream",
     "text": [
      "Let's try and play the guessing game. \n",
      "Computer will generate a random number betwen 1 to 100.\n",
      "You'll get 3 tries to guess the number.\n",
      "If you are within 5 of the number you'll get an output WARMER while less 5 will get output WARM \n",
      "If you are within 5 more than number you'll get an output COLD and more than 5 with COLDER. \n",
      "Try number : 3\n",
      "can you guess What number has been randomy generated between 1-100?\n"
     ]
    },
    {
     "name": "stdin",
     "output_type": "stream",
     "text": [
      "Enter your number here :  50\n"
     ]
    },
    {
     "name": "stdout",
     "output_type": "stream",
     "text": [
      "COLDER!\n",
      "Try number : 2\n",
      "can you guess What number has been randomy generated between 1-100?\n"
     ]
    },
    {
     "name": "stdin",
     "output_type": "stream",
     "text": [
      "Enter your number here :  40\n"
     ]
    },
    {
     "name": "stdout",
     "output_type": "stream",
     "text": [
      "COLDER!\n",
      "Try number : 1\n",
      "can you guess What number has been randomy generated between 1-100?\n"
     ]
    },
    {
     "name": "stdin",
     "output_type": "stream",
     "text": [
      "Enter your number here :  10\n"
     ]
    },
    {
     "name": "stdout",
     "output_type": "stream",
     "text": [
      "WARM!\n",
      "22\n",
      "Sorry!, Thank you for playing!\n"
     ]
    }
   ],
   "source": [
    "import random\n",
    "print (\"Let's try and play the guessing game. \")\n",
    "print(\"Computer will generate a random number betwen 1 to 100.\")\n",
    "print(\"You'll get 3 tries to guess the number.\")\n",
    "print(\"If you are within 5 of the number you'll get an output WARMER while less 5 will get output WARM \")\n",
    "print(\"If you are within 5 more than number you'll get an output COLD and more than 5 with COLDER. \")\n",
    "integer = random.randint(1,100)\n",
    "tries = 3\n",
    "correct_answer = False\n",
    "while tries > 0:\n",
    "    print (\"Try number : {}\".format(tries))\n",
    "    print (\"can you guess What number has been randomy generated between 1-100?\")\n",
    "    \n",
    "    input_number = int(input (\"Enter your number here : \"))\n",
    "    result = input_number - integer\n",
    "    if input_number <0 or input_number >100: \n",
    "        print (\"Number entered is either bigger than 100 or lesser than 0\")\n",
    "        break\n",
    "    elif result == 0 :\n",
    "        print (\"Success!! , You've guessed the correct number.\")\n",
    "        correct_answer = True\n",
    "        break\n",
    "    elif result > 0 and result > 10 :\n",
    "        print (\"COLDER!\")\n",
    "        #correct_answer = False\n",
    "    elif result > 0 and result <= 5 :\n",
    "        print (\"COLD!\")\n",
    "         #correct_answer = False\n",
    "    elif result < 0 and result >= -5 :\n",
    "        print (\"WARMER!\")\n",
    "         #correct_answer = False\n",
    "    elif result < 0 and result < -5 :\n",
    "        print(\"WARM!\")\n",
    "         #correct_answer = False\n",
    "        \n",
    "    tries-=1\n",
    "\n",
    "print(integer)\n",
    "if correct_answer== True : \n",
    "    print(\"Woohooo ! You Won.\")\n",
    "else :\n",
    "    print(\"Sorry!, Thank you for playing!\")"
   ]
  },
  {
   "cell_type": "code",
   "execution_count": null,
   "metadata": {},
   "outputs": [],
   "source": [
    "# PROBLEM STATEMENT : \n",
    "\"\"\"\"\"\"\"\"\"\n",
    "Guessing Game Challenge - Solution\n",
    "Let's use while loops to create a guessing game.\n",
    "\n",
    "The Challenge:\n",
    "\n",
    "Write a program that picks a random integer from 1 to 100, and has players guess the number. The rules are:\n",
    "\n",
    "If a player's guess is less than 1 or greater than 100, say \"OUT OF BOUNDS\"\n",
    "On a player's first turn, if their guess is\n",
    "within 10 of the number, return \"WARM!\"\n",
    "further than 10 away from the number, return \"COLD!\"\n",
    "On all subsequent turns, if a guess is\n",
    "closer to the number than the previous guess return \"WARMER!\"\n",
    "farther from the number than the previous guess, return \"COLDER!\"\n",
    "When the player's guess equals the number, tell them they've guessed correctly and how many guesses it took!\n",
    "\"\"\"\"\"\"\"\"\""
   ]
  },
  {
   "cell_type": "code",
   "execution_count": null,
   "metadata": {},
   "outputs": [],
   "source": []
  }
 ],
 "metadata": {
  "kernelspec": {
   "display_name": "Python 3",
   "language": "python",
   "name": "python3"
  },
  "language_info": {
   "codemirror_mode": {
    "name": "ipython",
    "version": 3
   },
   "file_extension": ".py",
   "mimetype": "text/x-python",
   "name": "python",
   "nbconvert_exporter": "python",
   "pygments_lexer": "ipython3",
   "version": "3.8.5"
  }
 },
 "nbformat": 4,
 "nbformat_minor": 4
}
